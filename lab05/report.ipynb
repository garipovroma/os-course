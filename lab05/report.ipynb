{
 "cells": [
  {
   "cell_type": "markdown",
   "metadata": {},
   "source": [
    "# Эксперимент 1"
   ]
  },
  {
   "cell_type": "code",
   "execution_count": 1,
   "metadata": {
    "scrolled": true
   },
   "outputs": [
    {
     "name": "stdout",
     "output_type": "stream",
     "text": [
      "RAM_SIZE = 11877 mB\n",
      "SWAP_SIZE = 7812 mB\n",
      "PAGE_SIZE = 4096 B\n",
      "RAM_AVAILABLE_SIZE = 6771 mB\n",
      "SWAP_AVAILABLE_SIZE = 7812 mB\n"
     ]
    }
   ],
   "source": [
    "%%bash\n",
    "./task-1/stage-1/info.sh"
   ]
  },
  {
   "cell_type": "markdown",
   "metadata": {},
   "source": [
    "## 1.1 Эксперимент c 1-м скриптом"
   ]
  },
  {
   "cell_type": "code",
   "execution_count": 2,
   "metadata": {},
   "outputs": [],
   "source": [
    "import numpy as np\n",
    "from matplotlib import pyplot as plt\n",
    "\n",
    "def get_plot(ram_info_path, swap_info_path, top_log_path, proc_name_suffix):\n",
    "    ram_file = open(ram_info_path, \"r\")\n",
    "    ram_data = np.array((list(map(lambda x: float(x.replace(\",\", \".\")), ram_file.read().split(\"\\n\")[:-1]))))\n",
    "    ram_file.close()\n",
    "    #print(ram_data)\n",
    "\n",
    "    swap_file = open(swap_info_path, \"r\")\n",
    "    swap_data = np.array((list(map(lambda x: float(x.replace(\",\", \".\")), swap_file.read().split(\"\\n\")[:-1]))))\n",
    "    osx = np.arange(1, 2 * len(ram_data), 2)\n",
    "    swap_file.close()\n",
    "    #print(swap_data)\n",
    "\n",
    "    plt.figure(figsize=(15, 7))    \n",
    "    plt.plot(osx, ram_data, 'red', label='free_ram')\n",
    "    plt.plot(osx, swap_data, 'blue', label='free_swap')\n",
    "    plt.xlabel(\"time in seconds\")\n",
    "    plt.ylabel(\"free memory in mBs\")\n",
    "    plt.legend()\n",
    "    "
   ]
  },
  {
   "cell_type": "code",
   "execution_count": 3,
   "metadata": {},
   "outputs": [
    {
     "data": {
      "image/png": "[encoded data removed]",
      "text/plain": [
       "<Figure size 1080x504 with 1 Axes>"
      ]
     },
     "metadata": {
      "needs_background": "light"
     },
     "output_type": "display_data"
    }
   ],
   "source": [
    "get_plot(\"task-1/stage-1/attempt-3/ram_info.txt\", \n",
    "         \"task-1/stage-1/attempt-3/swap_info.txt\", \n",
    "         \"task-1/stage-1/attempt-3/top-log.txt\", None)"
   ]
  },
  {
   "cell_type": "markdown",
   "metadata": {},
   "source": [
    "Почти сразу же (через 3 сек после старта), процесс становится топ1 по требуемой ему оперативной памяти и занимает эту позицию до завершения процесса.\n",
    "```\n",
    "MiB Mem :  11877,2 total,   9895,7 free,    731,4 used,   1250,0 buff/cache\n",
    "MiB Swap:   7813,0 total,   7270,9 free,    542,1 used.  10710,8 avail Mem \n",
    "\n",
    "  PID USER      PR  NI    VIRT    RES    SHR S  %CPU  %MEM     TIME+ COMMAND\n",
    "10830 roma      20   0  208264 202124   3224 R 100,0   1,7   0:03.35 mem.sh\n",
    " 1393 roma      20   0 2090784 148536  68084 S   0,0   1,2   1:16.69 plasmashell\n",
    "10273 roma      20   0 1029016 103548  74460 S   0,0   0,9   0:01.77 kate\n",
    " 9606 roma      20   0  599096  98912  65492 S   0,0   0,8   0:02.51 okular\n",
    "  903 root      20   0  348344  72684  52924 S   0,0   0,6   2:39.93 Xorg\n",
    "  ```\n",
    "\n",
    "Память под процесс выделяется линейно, swap не требуется пока есть место в оперативной памяти. Как только место кончается, происходит копирование страниц из RAM на swap-раздел жёсткого диска. Потом, когда процесс удалён системой, эти страницы удаляются из swap'a и оперативная память освобождается, что и видно на графике."
   ]
  },
  {
   "attachments": {},
   "cell_type": "markdown",
   "metadata": {},
   "source": [
    "### Записи о скрипте в системном журнале:\n",
    "<img src=\"task-1/stage-1/attempt-3/proc_message.png\" alt=\"proc_message\" style=\"zoom:100%;\" />"
   ]
  },
  {
   "cell_type": "code",
   "execution_count": 4,
   "metadata": {
    "scrolled": false
   },
   "outputs": [
    {
     "name": "stdout",
     "output_type": "stream",
     "text": [
      "[ 1004.316428] [   2012]  1000  2012  4681273  2908580 37564416  1770420             0 mem.sh\n",
      "[ 1004.316450] oom-kill:constraint=CONSTRAINT_NONE,nodemask=(null),cpuset=/,mems_allowed=0,global_oom,task_memcg=/user.slice/user-1000.slice/session-4.scope,task=mem.sh,pid=2012,uid=1000\n",
      "[ 1004.316462] Out of memory: Killed process 2012 (mem.sh) total-vm:18725092kB, anon-rss:11634320kB, file-rss:0kB, shmem-rss:0kB\n",
      "[ 1004.633121] oom_reaper: reaped process 2012 (mem.sh), now anon-rss:0kB, file-rss:0kB, shmem-rss:0kB\n",
      "[ 1978.924750] [   4987]  1000  4987  4671208  2916448 37482496  1752477             0 mem.sh\n",
      "[ 1978.924802] oom-kill:constraint=CONSTRAINT_NONE,nodemask=(null),cpuset=/,mems_allowed=0,global_oom,task_memcg=/user.slice/user-1000.slice/session-4.scope,task=mem.sh,pid=4987,uid=1000\n",
      "[ 1978.924828] Out of memory: Killed process 4987 (mem.sh) total-vm:18684832kB, anon-rss:11665792kB, file-rss:0kB, shmem-rss:0kB\n",
      "[ 1979.259589] oom_reaper: reaped process 4987 (mem.sh), now anon-rss:0kB, file-rss:0kB, shmem-rss:0kB\n",
      "[ 6143.928682] [  10830]  1000 10830  4659097  2877850 37384192  1778965             0 mem.sh\n",
      "[ 6143.928692] oom-kill:constraint=CONSTRAINT_NONE,nodemask=(null),cpuset=/,mems_allowed=0,global_oom,task_memcg=/user.slice/user-1000.slice/session-4.scope,task=mem.sh,pid=10830,uid=1000\n",
      "[ 6143.928703] Out of memory: Killed process 10830 (mem.sh) total-vm:18636388kB, anon-rss:11511400kB, file-rss:0kB, shmem-rss:0kB\n",
      "[ 6144.268172] oom_reaper: reaped process 10830 (mem.sh), now anon-rss:0kB, file-rss:0kB, shmem-rss:0kB\n"
     ]
    }
   ],
   "source": [
    "%%bash\n",
    "cat task-1/stage-1/attempt-3/proc_message.txt"
   ]
  },
  {
   "cell_type": "code",
   "execution_count": 5,
   "metadata": {
    "scrolled": true
   },
   "outputs": [
    {
     "data": {
      "text/plain": [
       "11361"
      ]
     },
     "execution_count": 5,
     "metadata": {},
     "output_type": "execute_result"
    }
   ],
   "source": [
    "11634320 // 1024 # - суммароное колво выделенной процессу памяти в МБ"
   ]
  },
  {
   "cell_type": "code",
   "execution_count": 6,
   "metadata": {},
   "outputs": [
    {
     "name": "stdout",
     "output_type": "stream",
     "text": [
      "238400000\n"
     ]
    }
   ],
   "source": [
    "%%bash\n",
    "cat task-1/stage-1/attempt-3/report.log | tail -1 # - количество элементов в массиве при остановке процесса"
   ]
  },
  {
   "cell_type": "code",
   "execution_count": 7,
   "metadata": {},
   "outputs": [
    {
     "data": {
      "text/plain": [
       "49.97291812080537"
      ]
     },
     "execution_count": 7,
     "metadata": {},
     "output_type": "execute_result"
    }
   ],
   "source": [
    "11634320 * 1024 / 238400000 # - примерно количество байт на один элемент массива"
   ]
  },
  {
   "cell_type": "markdown",
   "metadata": {},
   "source": [
    "## 1.2 Эксперимент с 2-мя скриптами\n"
   ]
  },
  {
   "cell_type": "code",
   "execution_count": 8,
   "metadata": {
    "scrolled": false
   },
   "outputs": [
    {
     "data": {
      "image/png": "[encoded data removed]",
      "text/plain": [
       "<Figure size 1080x504 with 1 Axes>"
      ]
     },
     "metadata": {
      "needs_background": "light"
     },
     "output_type": "display_data"
    }
   ],
   "source": [
    "get_plot(\"task-1/stage-2/attempt-2/ram_info.txt\", \n",
    "         \"task-1/stage-2/attempt-2/swap_info.txt\", \n",
    "         \"task-1/stage-2/attempt-2/top-log.txt\", \"1\")"
   ]
  },
  {
   "cell_type": "markdown",
   "metadata": {},
   "source": [
    "Почти сразу же (через 3 сек после старта), процессы становится топ1-2 по требуемой им оперативной памяти и занимают свои позиции до завершения соответствующего процесса.\n",
    "\n",
    "```\n",
    "MiB Mem :  11877,2 total,  10666,6 free,    741,3 used,    469,3 buff/cache\n",
    "MiB Swap:   7813,0 total,   7125,0 free,    688,0 used.  10775,3 avail Mem \n",
    "\n",
    "  PID USER      PR  NI    VIRT    RES    SHR S  %CPU  %MEM     TIME+ COMMAND\n",
    "11504 roma      20   0  171568 165412   3200 R 100,0   1,4   0:03.00 mem1.sh\n",
    "11505 roma      20   0  171172 165100   3144 R  93,8   1,4   0:03.00 mem2.sh\n",
    " 9606 roma      20   0  606948  80348  23772 S   0,0   0,7   0:03.88 okular\n",
    " 1393 roma      20   0 2090780  76864  33524 S   0,0   0,6   1:23.34 plasmashell\n",
    "  903 root      20   0  350276  67396  48668 S   0,0   0,6   2:57.85 Xorg\n",
    "```\n",
    "\n",
    "Момент, когда произошло копирование в swap памяти выделенной первому скрипту, а потом и его аварийное завершение :\n",
    "```\n",
    "MiB Mem :  11877,2 total,    136,6 free,  11380,7 used,    360,0 buff/cache\n",
    "MiB Swap:   7813,0 total,   7079,7 free,    733,2 used.    183,9 avail Mem \n",
    "\n",
    "  PID USER      PR  NI    VIRT    RES    SHR S  %CPU  %MEM     TIME+ COMMAND\n",
    "11504 roma      20   0 5615644   5,3g   3200 R  93,8  46,1   1:40.78 mem1.sh\n",
    "11505 roma      20   0 5598088   5,3g   3144 R  93,8  46,0   1:40.78 mem2.sh\n",
    " 9606 roma      20   0  606948  80348  23772 S   0,0   0,7   0:03.89 okular\n",
    " 1393 roma      20   0 2090800  77172  33512 S   0,0   0,6   1:23.65 plasmashell\n",
    "  903 root      20   0  350276  67384  48656 S   0,0   0,6   2:58.12 Xorg\n",
    "    \n",
    "----------------------------------------------------------------------------\n",
    "MiB Mem :  11877,2 total,   5539,4 free,   6175,6 used,    162,3 buff/cache\n",
    "MiB Swap:   7813,0 total,   3476,0 free,   4337,0 used.   5456,9 avail Mem \n",
    "\n",
    "  PID USER      PR  NI    VIRT    RES    SHR S  %CPU  %MEM     TIME+ COMMAND\n",
    "11505 roma      20   0 9547924   5,7g   1456 R   7,5  49,3   3:09.30 mem2.sh\n",
    "  903 root      20   0  350276  25196  23508 S   0,0   0,2   2:58.58 Xorg\n",
    " 1393 roma      20   0 2090800  13848   2400 D   0,0   0,1   1:24.22 plasmashell\n",
    " 9606 roma      20   0  606948   9540      0 S   0,0   0,1   0:04.03 okular\n",
    "10789 roma      20   0  407916   6944   5088 S   0,0   0,1   0:03.07 konsole\n",
    "```"
   ]
  },
  {
   "cell_type": "code",
   "execution_count": 9,
   "metadata": {
    "scrolled": true
   },
   "outputs": [
    {
     "name": "stdout",
     "output_type": "stream",
     "text": [
      "119900000\n",
      "238200000\n"
     ]
    }
   ],
   "source": [
    "%%bash\n",
    "cat task-1/stage-2/attempt-2/report1.log | tail -1 # - размер массива-1 на момент аварийного завершения первого скрипта\n",
    "cat task-1/stage-2/attempt-2/report2.log | tail -1 # - размер массива-1 на момент аварийного завершения первого скрипта\n"
   ]
  },
  {
   "cell_type": "markdown",
   "metadata": {},
   "source": [
    "### Записи о скрипте в системном журнале:\n",
    "<img src=\"task-1/stage-2/attempt-2/proc_messages.png\" alt=\"proc_message\" style=\"zoom:100%;\"/>"
   ]
  },
  {
   "cell_type": "code",
   "execution_count": 10,
   "metadata": {},
   "outputs": [
    {
     "name": "stdout",
     "output_type": "stream",
     "text": [
      "[ 1004.316428] [   2012]  1000  2012  4681273  2908580 37564416  1770420             0 mem.sh\n",
      "[ 1004.316450] oom-kill:constraint=CONSTRAINT_NONE,nodemask=(null),cpuset=/,mems_allowed=0,global_oom,task_memcg=/user.slice/user-1000.slice/session-4.scope,task=mem.sh,pid=2012,uid=1000\n",
      "[ 1004.316462] Out of memory: Killed process 2012 (mem.sh) total-vm:18725092kB, anon-rss:11634320kB, file-rss:0kB, shmem-rss:0kB\n",
      "[ 1004.633121] oom_reaper: reaped process 2012 (mem.sh), now anon-rss:0kB, file-rss:0kB, shmem-rss:0kB\n",
      "[ 1978.924750] [   4987]  1000  4987  4671208  2916448 37482496  1752477             0 mem.sh\n",
      "[ 1978.924802] oom-kill:constraint=CONSTRAINT_NONE,nodemask=(null),cpuset=/,mems_allowed=0,global_oom,task_memcg=/user.slice/user-1000.slice/session-4.scope,task=mem.sh,pid=4987,uid=1000\n",
      "[ 1978.924828] Out of memory: Killed process 4987 (mem.sh) total-vm:18684832kB, anon-rss:11665792kB, file-rss:0kB, shmem-rss:0kB\n",
      "[ 1979.259589] oom_reaper: reaped process 4987 (mem.sh), now anon-rss:0kB, file-rss:0kB, shmem-rss:0kB\n",
      "[ 4726.619835] mem2.sh invoked oom-killer: gfp_mask=0x100cca(GFP_HIGHUSER_MOVABLE), order=0, oom_score_adj=0\n",
      "[ 4726.619838] CPU: 2 PID: 8974 Comm: mem2.sh Not tainted 5.3.0-64-generic #58-Ubuntu\n",
      "[ 4726.620179] [   8974]  1000  8974  2370415  1474741 19034112   893401             0 mem2.sh\n",
      "[ 4726.620190] oom-kill:constraint=CONSTRAINT_NONE,nodemask=(null),cpuset=/,mems_allowed=0,global_oom,task_memcg=/user.slice/user-1000.slice/session-4.scope,task=mem2.sh,pid=8974,uid=1000\n",
      "[ 4726.620200] Out of memory: Killed process 8974 (mem2.sh) total-vm:9481660kB, anon-rss:5898964kB, file-rss:0kB, shmem-rss:0kB\n",
      "[ 4726.844838] oom_reaper: reaped process 8974 (mem2.sh), now anon-rss:0kB, file-rss:0kB, shmem-rss:0kB\n",
      "[ 6143.928682] [  10830]  1000 10830  4659097  2877850 37384192  1778965             0 mem.sh\n",
      "[ 6143.928692] oom-kill:constraint=CONSTRAINT_NONE,nodemask=(null),cpuset=/,mems_allowed=0,global_oom,task_memcg=/user.slice/user-1000.slice/session-4.scope,task=mem.sh,pid=10830,uid=1000\n",
      "[ 6143.928703] Out of memory: Killed process 10830 (mem.sh) total-vm:18636388kB, anon-rss:11511400kB, file-rss:0kB, shmem-rss:0kB\n",
      "[ 6144.268172] oom_reaper: reaped process 10830 (mem.sh), now anon-rss:0kB, file-rss:0kB, shmem-rss:0kB\n",
      "[ 6724.302596] [  11505]  1000 11505  2320057  1431019 18632704   886771             0 mem2.sh\n",
      "[ 7060.095422] [  11505]  1000 11505  4655071  2874378 37351424  1778430             0 mem2.sh\n",
      "[ 7060.095433] oom-kill:constraint=CONSTRAINT_NONE,nodemask=(null),cpuset=/,mems_allowed=0,global_oom,task_memcg=/user.slice/user-1000.slice/session-4.scope,task=mem2.sh,pid=11505,uid=1000\n",
      "[ 7060.095443] Out of memory: Killed process 11505 (mem2.sh) total-vm:18620284kB, anon-rss:11497512kB, file-rss:0kB, shmem-rss:0kB\n",
      "[ 7060.452681] oom_reaper: reaped process 11505 (mem2.sh), now anon-rss:0kB, file-rss:0kB, shmem-rss:0kB\n"
     ]
    }
   ],
   "source": [
    "%%bash\n",
    "cat task-1/stage-2/attempt-2/proc_message.txt"
   ]
  },
  {
   "cell_type": "markdown",
   "metadata": {},
   "source": [
    "### Вывод\n",
    "\n",
    "Параметр swap изменялся только после того, как получили нехватку RAM, в swap копировались страницы виртуальной памяти и на графиках сразу же уменьшалось количество доступной памяти раздела подкачки. Размер свободной оперативной памяти уменьшался линейно, после копирования страниц памяти в swap, а потом резко увеличивался так как освобождалась память процесса."
   ]
  },
  {
   "cell_type": "markdown",
   "metadata": {},
   "source": [
    "# Эксперимент 2"
   ]
  },
  {
   "cell_type": "markdown",
   "metadata": {},
   "source": [
    "Убедимся, что при K = 10 запущенных скриптах с параметром N = 23840000, все успешно завершатся.\n",
    "<img src=\"task-2/dmesg-1.png\" alt=\"proc_message\" style=\"zoom:100%;\"/>\n",
    "Действительно, ни одной записи в журнале не найдено.\n",
    "\n",
    "Посмотрим на значние К = 30. Параметр N оставим всё так же равным 23840000. Видим, что некотрые процессы завершились аварийно.\n",
    "<img src=\"task-2/dmesg-2.png\" alt=\"proc_message\" style=\"zoom:100%;\"/>\n",
    "\n",
    "Это произошло, потому что N * K >= X, где X - предельное значение, полученное в первом эксперименте.\n",
    "\n",
    "Тогда понятно, что для K = 30, очень легко подобрать N = 23840000 / 3 ~ 7946666, чтобы выполнялось N * K <= X.\n",
    "\n",
    "Действительно, при N = 7946666, все процессы завершились успешно.\n",
    "\n",
    "<img src=\"task-2/dmesg-3.png\" alt=\"proc_message\" style=\"zoom:100%;\"/>"
   ]
  }
 ],
 "metadata": {
  "kernelspec": {
   "display_name": "Python 3",
   "language": "python",
   "name": "python3"
  },
  "language_info": {
   "codemirror_mode": {
    "name": "ipython",
    "version": 3
   },
   "file_extension": ".py",
   "mimetype": "text/x-python",
   "name": "python",
   "nbconvert_exporter": "python",
   "pygments_lexer": "ipython3",
   "version": "3.7.6"
  }
 },
 "nbformat": 4,
 "nbformat_minor": 4
}
