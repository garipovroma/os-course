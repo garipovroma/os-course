{
 "cells": [
  {
   "cell_type": "code",
   "execution_count": 1,
   "metadata": {},
   "outputs": [
    {
     "name": "stdout",
     "output_type": "stream",
     "text": [
      "RAM_SIZE = 11877 mB\n",
      "SWAP_SIZE = 7812 mB\n",
      "PAGE_SIZE = 4096 kB\n",
      "RAM_AVAILABLE_SIZE = 6822 mB\n",
      "SWAP_AVAILABLE_SIZE = 7812 mB\n"
     ]
    }
   ],
   "source": [
    "%%bash\n",
    "./task-1/stage-1/info.sh"
   ]
  },
  {
   "cell_type": "markdown",
   "metadata": {},
   "source": [
    "## Эксперимент c 1-м скриптом"
   ]
  },
  {
   "cell_type": "code",
   "execution_count": 8,
   "metadata": {},
   "outputs": [],
   "source": [
    "import numpy as np\n",
    "from matplotlib import pyplot as plt\n",
    "\n",
    "def get_plot(ram_info_path, swap_info_path, top_log_path, count):\n",
    "    ram_file = open(ram_info_path, \"r\")\n",
    "    ram_data = np.array((list(map(lambda x: float(x.replace(\",\", \".\")), ram_file.read().split(\"\\n\")[:-1]))))\n",
    "    ram_file.close()\n",
    "    #print(ram_data)\n",
    "\n",
    "    swap_file = open(swap_info_path, \"r\")\n",
    "    swap_data = np.array((list(map(lambda x: float(x.replace(\",\", \".\")), swap_file.read().split(\"\\n\")[:-1]))))\n",
    "    osx = np.arange(1, 2 * len(ram_data), 2)\n",
    "    swap_file.close()\n",
    "    #print(swap_data)\n",
    "    \n",
    "    proc_name=\"mem.sh\"\n",
    "    if (count == 2):\n",
    "        proc_name=\"mem1.sh\"\n",
    "    top_log_file = open(top_log_path, \"r\")\n",
    "    data = top_log_file.read().split(\"\\n\\n\")[1::2]\n",
    "    data = [i.split(\"\\n\")[1::] for i in data]\n",
    "    for (i, v) in enumerate(data):\n",
    "        ind = -1\n",
    "        for j in range(len(v)):\n",
    "            cur_ind = v[j].find(proc_name)         \n",
    "            if (cur_ind != -1):\n",
    "                ind = j\n",
    "                break\n",
    "        data[i] = ind\n",
    "    data = np.array(data)\n",
    "    print(proc_name, \" position in top :\", data)\n",
    "\n",
    "    plt.figure(figsize=(10, 7))    \n",
    "    plt.plot(osx, ram_data, 'red', label='free_ram')\n",
    "    plt.plot(osx, swap_data, 'blue', label='free_swap')\n",
    "    plt.xlabel(\"time in seconds\")\n",
    "    plt.ylabel(\"free memory in mBs\")\n",
    "    plt.legend()\n",
    "    "
   ]
  },
  {
   "cell_type": "code",
   "execution_count": 10,
   "metadata": {},
   "outputs": [
    {
     "name": "stdout",
     "output_type": "stream",
     "text": [
      "mem.sh  position in top : [-1  3  0  0  0  0  0  0  0  0  0  0  0  0  0  0  0  0  0  0  0  0  0  0\n",
      "  0  0  0  0  0  0  0  0  0  0  0  0  0  0  0  0  0  0  0  0  0  0  0  0\n",
      "  0  0  0  0  0  0  0  0  0  0  0  0  0  0  0  0  0  0  0  0  0  0  0  0\n",
      "  0  0  0  0  0  0  0  0  0  0  0  0  0  0  0  0  0 -1 -1 -1 -1 -1 -1 -1\n",
      " -1]\n"
     ]
    },
    {
     "data": {
      "image/png": "[encoded data removed]",
      "text/plain": [
       "<Figure size 720x504 with 1 Axes>"
      ]
     },
     "metadata": {
      "needs_background": "light"
     },
     "output_type": "display_data"
    }
   ],
   "source": [
    "get_plot(\"task-1/stage-1/attempt-3/ram_info.txt\", \n",
    "         \"task-1/stage-1/attempt-3/swap_info.txt\", \n",
    "         \"task-1/stage-1/attempt-3/top-log.txt\", 1)"
   ]
  },
  {
   "cell_type": "markdown",
   "metadata": {},
   "source": [
    "Память под процесс выделяется линейно, swap не требуется пока есть место в оперативной памяти. Как только место кончается, происходит копирование страниц из RAM на swap-раздел жёсткого диска. Потом, когда процесс удалён системой, эти страницы удаляются из swap'a и оперативная память освобождается, что и видно на графике."
   ]
  },
  {
   "cell_type": "markdown",
   "metadata": {},
   "source": [
    "## Эксперимент с 2-мя скриптами\n"
   ]
  },
  {
   "cell_type": "code",
   "execution_count": 9,
   "metadata": {},
   "outputs": [
    {
     "ename": "TypeError",
     "evalue": "get_plot() missing 1 required positional argument: 'count'",
     "output_type": "error",
     "traceback": [
      "\u001b[0;31m---------------------------------------------------------------------------\u001b[0m",
      "\u001b[0;31mTypeError\u001b[0m                                 Traceback (most recent call last)",
      "\u001b[0;32m<ipython-input-9-6cc2a9d594cc>\u001b[0m in \u001b[0;36m<module>\u001b[0;34m\u001b[0m\n\u001b[1;32m      1\u001b[0m get_plot(\"task-1/stage-2/attempt-2/ram_info.txt\", \n\u001b[1;32m      2\u001b[0m          \u001b[0;34m\"task-1/stage-2/attempt-2/swap_info.txt\"\u001b[0m\u001b[0;34m,\u001b[0m\u001b[0;34m\u001b[0m\u001b[0;34m\u001b[0m\u001b[0m\n\u001b[0;32m----> 3\u001b[0;31m          \"task-1/stage-2/attempt-2/top-log.txt\")\n\u001b[0m",
      "\u001b[0;31mTypeError\u001b[0m: get_plot() missing 1 required positional argument: 'count'"
     ]
    }
   ],
   "source": [
    "get_plot(\"task-1/stage-2/attempt-2/ram_info.txt\", \n",
    "         \"task-1/stage-2/attempt-2/swap_info.txt\", \n",
    "         \"task-1/stage-2/attempt-2/top-log.txt\", 2)"
   ]
  },
  {
   "attachments": {},
   "cell_type": "markdown",
   "metadata": {},
   "source": [
    "### Записи о скрипте в системном журнале:\n",
    "<img src=\"task-1/stage-1/attempt-3/proc_message.png\" alt=\"proc_message\" style=\"zoom:100%;\" />"
   ]
  },
  {
   "cell_type": "code",
   "execution_count": 5,
   "metadata": {
    "scrolled": true
   },
   "outputs": [
    {
     "name": "stdout",
     "output_type": "stream",
     "text": [
      "[ 1004.316428] [   2012]  1000  2012  4681273  2908580 37564416  1770420             0 mem.sh\n",
      "[ 1004.316450] oom-kill:constraint=CONSTRAINT_NONE,nodemask=(null),cpuset=/,mems_allowed=0,global_oom,task_memcg=/user.slice/user-1000.slice/session-4.scope,task=mem.sh,pid=2012,uid=1000\n",
      "[ 1004.316462] Out of memory: Killed process 2012 (mem.sh) total-vm:18725092kB, anon-rss:11634320kB, file-rss:0kB, shmem-rss:0kB\n",
      "[ 1004.633121] oom_reaper: reaped process 2012 (mem.sh), now anon-rss:0kB, file-rss:0kB, shmem-rss:0kB\n",
      "[ 1978.924750] [   4987]  1000  4987  4671208  2916448 37482496  1752477             0 mem.sh\n",
      "[ 1978.924802] oom-kill:constraint=CONSTRAINT_NONE,nodemask=(null),cpuset=/,mems_allowed=0,global_oom,task_memcg=/user.slice/user-1000.slice/session-4.scope,task=mem.sh,pid=4987,uid=1000\n",
      "[ 1978.924828] Out of memory: Killed process 4987 (mem.sh) total-vm:18684832kB, anon-rss:11665792kB, file-rss:0kB, shmem-rss:0kB\n",
      "[ 1979.259589] oom_reaper: reaped process 4987 (mem.sh), now anon-rss:0kB, file-rss:0kB, shmem-rss:0kB\n",
      "[ 6143.928682] [  10830]  1000 10830  4659097  2877850 37384192  1778965             0 mem.sh\n",
      "[ 6143.928692] oom-kill:constraint=CONSTRAINT_NONE,nodemask=(null),cpuset=/,mems_allowed=0,global_oom,task_memcg=/user.slice/user-1000.slice/session-4.scope,task=mem.sh,pid=10830,uid=1000\n",
      "[ 6143.928703] Out of memory: Killed process 10830 (mem.sh) total-vm:18636388kB, anon-rss:11511400kB, file-rss:0kB, shmem-rss:0kB\n",
      "[ 6144.268172] oom_reaper: reaped process 10830 (mem.sh), now anon-rss:0kB, file-rss:0kB, shmem-rss:0kB\n"
     ]
    }
   ],
   "source": [
    "%%bash\n",
    "cat task-1/stage-1/attempt-3/proc_message.txt"
   ]
  },
  {
   "cell_type": "code",
   "execution_count": 6,
   "metadata": {},
   "outputs": [
    {
     "data": {
      "text/plain": [
       "11361"
      ]
     },
     "execution_count": 6,
     "metadata": {},
     "output_type": "execute_result"
    }
   ],
   "source": [
    "11634320 // 1024 # - суммароное колво запрошеной процессом памяти в МБ"
   ]
  },
  {
   "cell_type": "code",
   "execution_count": 7,
   "metadata": {},
   "outputs": [
    {
     "name": "stdout",
     "output_type": "stream",
     "text": [
      "238300000\n",
      "238400000\n"
     ]
    }
   ],
   "source": [
    "%%bash\n",
    "cat task-1/stage-1/attempt-3/report.log | tail -2 # - количество элементов в массиве при остановке процесса"
   ]
  },
  {
   "cell_type": "code",
   "execution_count": null,
   "metadata": {},
   "outputs": [],
   "source": []
  }
 ],
 "metadata": {
  "kernelspec": {
   "display_name": "Python 3",
   "language": "python",
   "name": "python3"
  },
  "language_info": {
   "codemirror_mode": {
    "name": "ipython",
    "version": 3
   },
   "file_extension": ".py",
   "mimetype": "text/x-python",
   "name": "python",
   "nbconvert_exporter": "python",
   "pygments_lexer": "ipython3",
   "version": "3.7.6"
  }
 },
 "nbformat": 4,
 "nbformat_minor": 4
}
